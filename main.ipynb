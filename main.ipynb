{
 "cells": [
  {
   "cell_type": "markdown",
   "id": "e23b2bbc",
   "metadata": {},
   "source": [
    "Data Understanding"
   ]
  },
  {
   "cell_type": "code",
   "execution_count": 2,
   "id": "eef92710",
   "metadata": {},
   "outputs": [
    {
     "data": {
      "text/html": [
       "<div>\n",
       "<style scoped>\n",
       "    .dataframe tbody tr th:only-of-type {\n",
       "        vertical-align: middle;\n",
       "    }\n",
       "\n",
       "    .dataframe tbody tr th {\n",
       "        vertical-align: top;\n",
       "    }\n",
       "\n",
       "    .dataframe thead th {\n",
       "        text-align: right;\n",
       "    }\n",
       "</style>\n",
       "<table border=\"1\" class=\"dataframe\">\n",
       "  <thead>\n",
       "    <tr style=\"text-align: right;\">\n",
       "      <th></th>\n",
       "      <th>fNAME</th>\n",
       "      <th>lNAME</th>\n",
       "      <th>Age</th>\n",
       "      <th>gender</th>\n",
       "      <th>country</th>\n",
       "      <th>residence</th>\n",
       "      <th>entryEXAM</th>\n",
       "      <th>prevEducation</th>\n",
       "      <th>studyHOURS</th>\n",
       "      <th>Python</th>\n",
       "      <th>DB</th>\n",
       "    </tr>\n",
       "  </thead>\n",
       "  <tbody>\n",
       "    <tr>\n",
       "      <th>0</th>\n",
       "      <td>Christina</td>\n",
       "      <td>Binger</td>\n",
       "      <td>44</td>\n",
       "      <td>Female</td>\n",
       "      <td>Norway</td>\n",
       "      <td>Private</td>\n",
       "      <td>72</td>\n",
       "      <td>Masters</td>\n",
       "      <td>158</td>\n",
       "      <td>59.0</td>\n",
       "      <td>55</td>\n",
       "    </tr>\n",
       "    <tr>\n",
       "      <th>1</th>\n",
       "      <td>Alex</td>\n",
       "      <td>Walekhwa</td>\n",
       "      <td>60</td>\n",
       "      <td>M</td>\n",
       "      <td>Kenya</td>\n",
       "      <td>Private</td>\n",
       "      <td>79</td>\n",
       "      <td>Diploma</td>\n",
       "      <td>150</td>\n",
       "      <td>60.0</td>\n",
       "      <td>75</td>\n",
       "    </tr>\n",
       "    <tr>\n",
       "      <th>2</th>\n",
       "      <td>Philip</td>\n",
       "      <td>Leo</td>\n",
       "      <td>25</td>\n",
       "      <td>Male</td>\n",
       "      <td>Uganda</td>\n",
       "      <td>Sognsvann</td>\n",
       "      <td>55</td>\n",
       "      <td>HighSchool</td>\n",
       "      <td>130</td>\n",
       "      <td>74.0</td>\n",
       "      <td>50</td>\n",
       "    </tr>\n",
       "    <tr>\n",
       "      <th>3</th>\n",
       "      <td>Shoni</td>\n",
       "      <td>Hlongwane</td>\n",
       "      <td>22</td>\n",
       "      <td>F</td>\n",
       "      <td>Rsa</td>\n",
       "      <td>Sognsvann</td>\n",
       "      <td>40</td>\n",
       "      <td>High School</td>\n",
       "      <td>120</td>\n",
       "      <td>NaN</td>\n",
       "      <td>44</td>\n",
       "    </tr>\n",
       "    <tr>\n",
       "      <th>4</th>\n",
       "      <td>Maria</td>\n",
       "      <td>Kedibone</td>\n",
       "      <td>23</td>\n",
       "      <td>Female</td>\n",
       "      <td>South Africa</td>\n",
       "      <td>Sognsvann</td>\n",
       "      <td>65</td>\n",
       "      <td>High School</td>\n",
       "      <td>122</td>\n",
       "      <td>91.0</td>\n",
       "      <td>80</td>\n",
       "    </tr>\n",
       "  </tbody>\n",
       "</table>\n",
       "</div>"
      ],
      "text/plain": [
       "       fNAME      lNAME  Age  gender       country  residence  entryEXAM  \\\n",
       "0  Christina     Binger   44  Female        Norway    Private         72   \n",
       "1       Alex   Walekhwa   60       M         Kenya    Private         79   \n",
       "2     Philip        Leo   25    Male        Uganda  Sognsvann         55   \n",
       "3      Shoni  Hlongwane   22       F           Rsa  Sognsvann         40   \n",
       "4      Maria   Kedibone   23  Female  South Africa  Sognsvann         65   \n",
       "\n",
       "  prevEducation  studyHOURS  Python  DB  \n",
       "0       Masters         158    59.0  55  \n",
       "1       Diploma         150    60.0  75  \n",
       "2    HighSchool         130    74.0  50  \n",
       "3   High School         120     NaN  44  \n",
       "4   High School         122    91.0  80  "
      ]
     },
     "execution_count": 2,
     "metadata": {},
     "output_type": "execute_result"
    }
   ],
   "source": [
    "import pandas as pd\n",
    "df=pd.read_csv(\"bi.csv\",encoding='ISO-8859-1')\n",
    "df.head()"
   ]
  },
  {
   "cell_type": "code",
   "execution_count": 3,
   "id": "c307c137",
   "metadata": {},
   "outputs": [
    {
     "data": {
      "text/plain": [
       "(77, 11)"
      ]
     },
     "execution_count": 3,
     "metadata": {},
     "output_type": "execute_result"
    }
   ],
   "source": [
    "df.shape"
   ]
  },
  {
   "cell_type": "code",
   "execution_count": 4,
   "id": "e6d58696",
   "metadata": {},
   "outputs": [
    {
     "data": {
      "text/plain": [
       "fNAME             object\n",
       "lNAME             object\n",
       "Age                int64\n",
       "gender            object\n",
       "country           object\n",
       "residence         object\n",
       "entryEXAM          int64\n",
       "prevEducation     object\n",
       "studyHOURS         int64\n",
       "Python           float64\n",
       "DB                 int64\n",
       "dtype: object"
      ]
     },
     "execution_count": 4,
     "metadata": {},
     "output_type": "execute_result"
    }
   ],
   "source": [
    "df.dtypes"
   ]
  },
  {
   "cell_type": "code",
   "execution_count": 5,
   "id": "1542a252",
   "metadata": {},
   "outputs": [
    {
     "data": {
      "text/html": [
       "<div>\n",
       "<style scoped>\n",
       "    .dataframe tbody tr th:only-of-type {\n",
       "        vertical-align: middle;\n",
       "    }\n",
       "\n",
       "    .dataframe tbody tr th {\n",
       "        vertical-align: top;\n",
       "    }\n",
       "\n",
       "    .dataframe thead th {\n",
       "        text-align: right;\n",
       "    }\n",
       "</style>\n",
       "<table border=\"1\" class=\"dataframe\">\n",
       "  <thead>\n",
       "    <tr style=\"text-align: right;\">\n",
       "      <th></th>\n",
       "      <th>Age</th>\n",
       "      <th>entryEXAM</th>\n",
       "      <th>studyHOURS</th>\n",
       "      <th>Python</th>\n",
       "      <th>DB</th>\n",
       "    </tr>\n",
       "  </thead>\n",
       "  <tbody>\n",
       "    <tr>\n",
       "      <th>count</th>\n",
       "      <td>77.000000</td>\n",
       "      <td>77.000000</td>\n",
       "      <td>77.000000</td>\n",
       "      <td>75.000000</td>\n",
       "      <td>77.000000</td>\n",
       "    </tr>\n",
       "    <tr>\n",
       "      <th>mean</th>\n",
       "      <td>35.207792</td>\n",
       "      <td>76.753247</td>\n",
       "      <td>149.714286</td>\n",
       "      <td>75.853333</td>\n",
       "      <td>69.467532</td>\n",
       "    </tr>\n",
       "    <tr>\n",
       "      <th>std</th>\n",
       "      <td>10.341966</td>\n",
       "      <td>16.475784</td>\n",
       "      <td>12.743272</td>\n",
       "      <td>15.410328</td>\n",
       "      <td>17.033701</td>\n",
       "    </tr>\n",
       "    <tr>\n",
       "      <th>min</th>\n",
       "      <td>21.000000</td>\n",
       "      <td>28.000000</td>\n",
       "      <td>114.000000</td>\n",
       "      <td>15.000000</td>\n",
       "      <td>30.000000</td>\n",
       "    </tr>\n",
       "    <tr>\n",
       "      <th>25%</th>\n",
       "      <td>27.000000</td>\n",
       "      <td>69.000000</td>\n",
       "      <td>144.000000</td>\n",
       "      <td>71.000000</td>\n",
       "      <td>56.000000</td>\n",
       "    </tr>\n",
       "    <tr>\n",
       "      <th>50%</th>\n",
       "      <td>33.000000</td>\n",
       "      <td>80.000000</td>\n",
       "      <td>156.000000</td>\n",
       "      <td>81.000000</td>\n",
       "      <td>71.000000</td>\n",
       "    </tr>\n",
       "    <tr>\n",
       "      <th>75%</th>\n",
       "      <td>42.000000</td>\n",
       "      <td>90.000000</td>\n",
       "      <td>158.000000</td>\n",
       "      <td>85.000000</td>\n",
       "      <td>83.000000</td>\n",
       "    </tr>\n",
       "    <tr>\n",
       "      <th>max</th>\n",
       "      <td>71.000000</td>\n",
       "      <td>98.000000</td>\n",
       "      <td>160.000000</td>\n",
       "      <td>91.000000</td>\n",
       "      <td>100.000000</td>\n",
       "    </tr>\n",
       "  </tbody>\n",
       "</table>\n",
       "</div>"
      ],
      "text/plain": [
       "             Age  entryEXAM  studyHOURS     Python          DB\n",
       "count  77.000000  77.000000   77.000000  75.000000   77.000000\n",
       "mean   35.207792  76.753247  149.714286  75.853333   69.467532\n",
       "std    10.341966  16.475784   12.743272  15.410328   17.033701\n",
       "min    21.000000  28.000000  114.000000  15.000000   30.000000\n",
       "25%    27.000000  69.000000  144.000000  71.000000   56.000000\n",
       "50%    33.000000  80.000000  156.000000  81.000000   71.000000\n",
       "75%    42.000000  90.000000  158.000000  85.000000   83.000000\n",
       "max    71.000000  98.000000  160.000000  91.000000  100.000000"
      ]
     },
     "execution_count": 5,
     "metadata": {},
     "output_type": "execute_result"
    }
   ],
   "source": [
    "df.describe()"
   ]
  },
  {
   "cell_type": "markdown",
   "id": "61003402",
   "metadata": {},
   "source": [
    "Data Cleaning & missing values  "
   ]
  },
  {
   "cell_type": "code",
   "execution_count": 6,
   "id": "5f357cd3",
   "metadata": {},
   "outputs": [
    {
     "data": {
      "text/html": [
       "<div>\n",
       "<style scoped>\n",
       "    .dataframe tbody tr th:only-of-type {\n",
       "        vertical-align: middle;\n",
       "    }\n",
       "\n",
       "    .dataframe tbody tr th {\n",
       "        vertical-align: top;\n",
       "    }\n",
       "\n",
       "    .dataframe thead th {\n",
       "        text-align: right;\n",
       "    }\n",
       "</style>\n",
       "<table border=\"1\" class=\"dataframe\">\n",
       "  <thead>\n",
       "    <tr style=\"text-align: right;\">\n",
       "      <th></th>\n",
       "      <th>fNAME</th>\n",
       "      <th>lNAME</th>\n",
       "      <th>Age</th>\n",
       "      <th>gender</th>\n",
       "      <th>country</th>\n",
       "      <th>residence</th>\n",
       "      <th>entryEXAM</th>\n",
       "      <th>prevEducation</th>\n",
       "      <th>studyHOURS</th>\n",
       "      <th>Python</th>\n",
       "      <th>DB</th>\n",
       "    </tr>\n",
       "  </thead>\n",
       "  <tbody>\n",
       "  </tbody>\n",
       "</table>\n",
       "</div>"
      ],
      "text/plain": [
       "Empty DataFrame\n",
       "Columns: [fNAME, lNAME, Age, gender, country, residence, entryEXAM, prevEducation, studyHOURS, Python, DB]\n",
       "Index: []"
      ]
     },
     "execution_count": 6,
     "metadata": {},
     "output_type": "execute_result"
    }
   ],
   "source": [
    "df[df.duplicated()]"
   ]
  },
  {
   "cell_type": "code",
   "execution_count": 7,
   "id": "b8936ea5",
   "metadata": {},
   "outputs": [
    {
     "data": {
      "text/plain": [
       "0"
      ]
     },
     "execution_count": 7,
     "metadata": {},
     "output_type": "execute_result"
    }
   ],
   "source": [
    "df.duplicated().sum()"
   ]
  },
  {
   "cell_type": "code",
   "execution_count": 8,
   "id": "3c3170d7",
   "metadata": {},
   "outputs": [],
   "source": [
    "df.drop_duplicates(inplace=True)"
   ]
  },
  {
   "cell_type": "code",
   "execution_count": 9,
   "id": "f33737ac",
   "metadata": {},
   "outputs": [
    {
     "data": {
      "text/plain": [
       "fNAME            0\n",
       "lNAME            0\n",
       "Age              0\n",
       "gender           0\n",
       "country          0\n",
       "residence        0\n",
       "entryEXAM        0\n",
       "prevEducation    0\n",
       "studyHOURS       0\n",
       "Python           2\n",
       "DB               0\n",
       "dtype: int64"
      ]
     },
     "execution_count": 9,
     "metadata": {},
     "output_type": "execute_result"
    }
   ],
   "source": [
    "df.isnull().sum()"
   ]
  },
  {
   "cell_type": "code",
   "execution_count": 10,
   "id": "a3afb5ec",
   "metadata": {},
   "outputs": [],
   "source": [
    "df['Python'].fillna(df['Python'].mean(),inplace=True)"
   ]
  },
  {
   "cell_type": "code",
   "execution_count": 11,
   "id": "984c900d",
   "metadata": {},
   "outputs": [
    {
     "name": "stdout",
     "output_type": "stream",
     "text": [
      "<class 'pandas.core.frame.DataFrame'>\n",
      "RangeIndex: 77 entries, 0 to 76\n",
      "Data columns (total 11 columns):\n",
      " #   Column         Non-Null Count  Dtype  \n",
      "---  ------         --------------  -----  \n",
      " 0   fNAME          77 non-null     object \n",
      " 1   lNAME          77 non-null     object \n",
      " 2   Age            77 non-null     int64  \n",
      " 3   gender         77 non-null     object \n",
      " 4   country        77 non-null     object \n",
      " 5   residence      77 non-null     object \n",
      " 6   entryEXAM      77 non-null     int64  \n",
      " 7   prevEducation  77 non-null     object \n",
      " 8   studyHOURS     77 non-null     int64  \n",
      " 9   Python         77 non-null     float64\n",
      " 10  DB             77 non-null     int64  \n",
      "dtypes: float64(1), int64(4), object(6)\n",
      "memory usage: 6.7+ KB\n"
     ]
    }
   ],
   "source": [
    "df.info()"
   ]
  },
  {
   "cell_type": "code",
   "execution_count": 12,
   "id": "5645557f",
   "metadata": {},
   "outputs": [
    {
     "data": {
      "text/plain": [
       "fNAME            71\n",
       "lNAME            66\n",
       "Age              32\n",
       "gender            6\n",
       "country          16\n",
       "residence         6\n",
       "entryEXAM        36\n",
       "prevEducation    10\n",
       "studyHOURS       18\n",
       "Python           32\n",
       "DB               40\n",
       "dtype: int64"
      ]
     },
     "execution_count": 12,
     "metadata": {},
     "output_type": "execute_result"
    }
   ],
   "source": [
    "df.nunique()"
   ]
  },
  {
   "cell_type": "code",
   "execution_count": 13,
   "id": "0e26868a",
   "metadata": {},
   "outputs": [
    {
     "name": "stdout",
     "output_type": "stream",
     "text": [
      "\n",
      "ستون fNAME:['Christina' 'Alex' 'Philip' 'Shoni' 'Maria' 'Hannah' 'Ole' 'Lars' 'Bjørn'\n",
      " 'Sofie' 'Emma' 'Solveig' 'Odd' 'Grethe' 'Marco' 'Ingrid' 'Hanna' 'Jorunn'\n",
      " 'Sebastian' 'Camilla' 'Prof' 'Kristine' 'Carmen' 'Gunnar' 'Gerd' 'Aisha'\n",
      " 'Kato' 'Nansubuga' 'Joakim' 'Don' 'Perry' 'Frank' 'Line' 'Thor' 'Petter'\n",
      " 'Sindre' 'Simen' 'Bjørg' 'Trond' 'Emily' 'Unni' 'Ruth' 'Inger' 'Peninah'\n",
      " 'Berit' 'Jenny' 'Thea' 'Dag' 'Mwanaidi' 'Chinedu' 'Irene' 'Marianne'\n",
      " 'Jens' 'Morten' 'Karoline' 'Ola' 'Tore' 'Caroline' 'Silvia' 'Valentino'\n",
      " 'Peter' 'Anna' 'Lucas' 'Marie' 'Thomas' 'Maximilan' 'Clara' 'Julian'\n",
      " 'Sophie' 'Leon' 'Mohammed']\n",
      "\n",
      "\n",
      "ستون lNAME:['Binger' 'Walekhwa' 'Leo' 'Hlongwane' 'Kedibone' 'Hansen' 'Johansen'\n",
      " 'Olsen' 'Larsen' 'Jensen' 'de Vries' 'Eliassen' 'Knudsen' 'Myklebust'\n",
      " 'Rossi' 'Eide' 'Andresen' 'Kristiansen' 'Mikkelsen' 'Birkeland' 'Isaksen'\n",
      " 'Berg' 'Rodríguez' 'Ahmed' 'Brekke' 'Bakken' 'Nakaweesi' 'Muwanguzi'\n",
      " 'Nakalema' 'Edvardsen' 'Pettersen' 'Rønning' 'Abrahamsen' 'Næss'\n",
      " 'Sandvik' 'Ellingsen' 'Myhre' 'Fredriksen' 'Karlsen' 'Thompson'\n",
      " 'Jacobsen' 'Pedersen' 'Kristoffersen' 'Knutsen' 'Arnesen' 'Ali' 'Morison'\n",
      " 'Strømertan' 'Okafor' 'Ruud' 'Lunde' 'Bakke' 'Narocho' 'Ojiambo'\n",
      " 'Kubebea' 'Müller' 'Schmidt' 'Dubois' 'García' 'Janssen' 'Martini'\n",
      " 'Bernard' 'Nielsen' 'Brown' 'Bauer' 'Salim']\n",
      "\n",
      "\n",
      "ستون Age:[44 60 25 22 23 27 29 31 33 34 36 38 40 42 43 45 47 48 50 24 26 28 30 32\n",
      " 35 37 39 41 46 71 21 69]\n",
      "\n",
      "\n",
      "ستون gender:['Female' 'M' 'Male' 'F' 'female' 'male']\n",
      "\n",
      "\n",
      "ستون country:['Norway' 'Kenya' 'Uganda' 'Rsa' 'South Africa' 'Norge' 'norway' 'Denmark'\n",
      " 'Netherlands' 'Italy' 'Spain' 'UK' 'Somali' 'Nigeria' 'Germany' 'France']\n",
      "\n",
      "\n",
      "ستون residence:['Private' 'Sognsvann' 'BI Residence' 'BI-Residence' 'BIResidence'\n",
      " 'BI_Residence']\n",
      "\n",
      "\n",
      "ستون entryEXAM:[72 79 55 40 65 66 90 89 88 85 70 91 77 80 81 86 75 95 45 50 78 82 92 76\n",
      " 30 68 98 96 54 69 28 94 73 83 74 35]\n",
      "\n",
      "\n",
      "ستون prevEducation:['Masters' 'Diploma' 'HighSchool' 'High School' 'Bachelors' 'Barrrchelors'\n",
      " 'diploma' 'DIPLOMA' 'Diplomaaa' 'Doctorate']\n",
      "\n",
      "\n",
      "ستون studyHOURS:[158 150 130 120 122 156 160 144 152 148 116 114 140 142 154 136 124 138]\n",
      "\n",
      "\n",
      "ستون Python:[59.         60.         74.         75.85333333 91.         88.\n",
      " 80.         85.         83.         79.         70.         75.\n",
      " 87.         76.         84.         33.         30.         61.\n",
      " 82.         66.         81.         31.         90.         69.\n",
      " 57.         86.         78.         48.         45.         15.\n",
      " 63.         72.        ]\n",
      "\n",
      "\n",
      "ستون DB:[ 55  75  50  44  80  59  91  60  89  90  58  99  76  77  82  78  73  30\n",
      "  56  65  83  88  69  79  45  42  70  74  33  92  86  62  47  67 100  61\n",
      "  46  68  71  43]\n",
      "\n"
     ]
    }
   ],
   "source": [
    "for col in df.columns:\n",
    "    print(f\"\\nستون {col}:{df[col].unique()}\\n\")"
   ]
  },
  {
   "cell_type": "code",
   "execution_count": 14,
   "id": "a37f0333",
   "metadata": {},
   "outputs": [],
   "source": [
    "df['gender'] = df['gender'].replace({'M': 'Male','F': 'Female','male':'Male','female':'Female'})\n",
    "df['country']=df['country'].replace({'norway':'Norway'})\n",
    "df['residence']=df['residence'].replace({'BI Residence':'BI_Residence','BIResidence':'BI_Residence','BI-Residence':'BI_Residence'})\n",
    "df['prevEducation']=df['prevEducation'].replace({'Barrrchelors':'Bachelors','HighSchool':'High School','Diplomaaa':'Diploma','DIPLOMA':'Diploma','diploma':'Diploma'})"
   ]
  },
  {
   "cell_type": "code",
   "execution_count": 15,
   "id": "22f4e8c0",
   "metadata": {},
   "outputs": [
    {
     "data": {
      "text/plain": [
       "prevEducation\n",
       "Bachelors      25\n",
       "High School    19\n",
       "Masters        16\n",
       "Diploma        12\n",
       "Doctorate       5\n",
       "Name: count, dtype: int64"
      ]
     },
     "execution_count": 15,
     "metadata": {},
     "output_type": "execute_result"
    }
   ],
   "source": [
    "df['prevEducation'].value_counts()"
   ]
  },
  {
   "cell_type": "code",
   "execution_count": 16,
   "id": "c3a37332",
   "metadata": {},
   "outputs": [
    {
     "data": {
      "text/plain": [
       "array(['Norway', 'Kenya', 'Uganda', 'Rsa', 'South Africa', 'Norge',\n",
       "       'Denmark', 'Netherlands', 'Italy', 'Spain', 'UK', 'Somali',\n",
       "       'Nigeria', 'Germany', 'France'], dtype=object)"
      ]
     },
     "execution_count": 16,
     "metadata": {},
     "output_type": "execute_result"
    }
   ],
   "source": [
    "df['country'].unique()"
   ]
  },
  {
   "cell_type": "code",
   "execution_count": 17,
   "id": "eec2ac2a",
   "metadata": {},
   "outputs": [
    {
     "name": "stdout",
     "output_type": "stream",
     "text": [
      "columns:Age\n",
      "outlier is :\n",
      "32    71\n",
      "55    69\n",
      "Name: Age, dtype: int64\n",
      "\n",
      "\n",
      "columns:Age\n",
      "data wihout any outlier \n",
      " 0     44\n",
      "1     60\n",
      "2     25\n",
      "3     22\n",
      "4     23\n",
      "      ..\n",
      "72    43\n",
      "73    31\n",
      "74    33\n",
      "75    35\n",
      "76    31\n",
      "Name: Age, Length: 75, dtype: int64\n",
      "\n",
      "\n",
      "columns:entryEXAM\n",
      "outlier is :\n",
      "32    30\n",
      "53    28\n",
      "76    35\n",
      "Name: entryEXAM, dtype: int64\n",
      "\n",
      "\n",
      "columns:entryEXAM\n",
      "data wihout any outlier \n",
      " 0     72\n",
      "1     79\n",
      "2     55\n",
      "3     40\n",
      "4     65\n",
      "      ..\n",
      "71    74\n",
      "72    80\n",
      "73    90\n",
      "74    96\n",
      "75    90\n",
      "Name: entryEXAM, Length: 73, dtype: int64\n",
      "\n",
      "\n",
      "columns:studyHOURS\n",
      "outlier is :\n",
      "3     120\n",
      "4     122\n",
      "20    116\n",
      "21    114\n",
      "32    120\n",
      "49    120\n",
      "53    120\n",
      "Name: studyHOURS, dtype: int64\n",
      "\n",
      "\n",
      "columns:studyHOURS\n",
      "data wihout any outlier \n",
      " 0     158\n",
      "1     150\n",
      "2     130\n",
      "5     130\n",
      "6     156\n",
      "     ... \n",
      "71    140\n",
      "72    150\n",
      "73    158\n",
      "74    158\n",
      "75    160\n",
      "Name: studyHOURS, Length: 68, dtype: int64\n",
      "\n",
      "\n",
      "columns:Python\n",
      "outlier is :\n",
      "20    33.0\n",
      "21    30.0\n",
      "32    31.0\n",
      "48    48.0\n",
      "49    45.0\n",
      "53    15.0\n",
      "Name: Python, dtype: float64\n",
      "\n",
      "\n",
      "columns:Python\n",
      "data wihout any outlier \n",
      " 0     59.0\n",
      "1     60.0\n",
      "2     74.0\n",
      "5     88.0\n",
      "6     80.0\n",
      "      ... \n",
      "71    63.0\n",
      "72    75.0\n",
      "73    84.0\n",
      "74    85.0\n",
      "75    87.0\n",
      "Name: Python, Length: 67, dtype: float64\n",
      "\n",
      "\n",
      "columns:DB\n",
      "outlier is :\n",
      "Series([], Name: DB, dtype: int64)\n",
      "\n",
      "\n",
      "columns:DB\n",
      "data wihout any outlier \n",
      " 0     55\n",
      "1     75\n",
      "2     50\n",
      "5     59\n",
      "6     91\n",
      "      ..\n",
      "71    60\n",
      "72    43\n",
      "73    83\n",
      "74    90\n",
      "75    74\n",
      "Name: DB, Length: 67, dtype: int64\n",
      "\n",
      "\n"
     ]
    }
   ],
   "source": [
    "df_no_outliers = df.copy()\n",
    "numerical_cols = df.select_dtypes(include=['int64', 'float64']).columns\n",
    "for coll in numerical_cols:\n",
    "    Q1=df[coll].quantile(0.25)\n",
    "    Q3=df[coll].quantile(0.75)\n",
    "    IQR=Q3-Q1\n",
    "    lower_bound=Q1-1.5*IQR\n",
    "    upper_bound=Q3+1.5*IQR\n",
    "    outliers=(df[coll] < lower_bound) | (df[coll] > upper_bound)\n",
    "    print(f'columns:{coll}\\noutlier is :\\n{df[outliers][coll]}')\n",
    "    print('\\n')\n",
    "    df_no_outliers = df_no_outliers[(df_no_outliers[coll] >= lower_bound) & (df_no_outliers[coll] <= upper_bound)]\n",
    "    print(f'columns:{coll}\\ndata wihout any outlier \\n {df_no_outliers[coll]}\\n\\n')"
   ]
  },
  {
   "cell_type": "code",
   "execution_count": 18,
   "id": "2942ebd5",
   "metadata": {},
   "outputs": [
    {
     "data": {
      "image/png": "[encoded data removed]",
      "text/plain": [
       "<Figure size 2000x2000 with 5 Axes>"
      ]
     },
     "metadata": {},
     "output_type": "display_data"
    }
   ],
   "source": [
    "import matplotlib.pyplot as plt\n",
    "import seaborn as sns\n",
    "# Identify numerical columns\n",
    "numerical_cols = df.select_dtypes(include=['int64', 'float64']).columns\n",
    "# Define color palette\n",
    "palette = sns.color_palette(\"husl\",len(numerical_cols))\n",
    "#to show Outliers in data \n",
    "plt.figure(figsize=(20, 20))\n",
    "for i, col in enumerate(numerical_cols, 1):\n",
    "    plt.subplot(3,3, i)\n",
    "    sns.boxplot(y=df[col], color=palette[i-1])\n",
    "    plt.title(f'Boxplot of {col}')\n",
    "plt.tight_layout()\n",
    "plt.show()\n",
    "\n"
   ]
  },
  {
   "cell_type": "code",
   "execution_count": 19,
   "id": "187c046c",
   "metadata": {},
   "outputs": [
    {
     "data": {
      "image/png": "[encoded data removed]",
      "text/plain": [
       "<Figure size 800x500 with 1 Axes>"
      ]
     },
     "metadata": {},
     "output_type": "display_data"
    }
   ],
   "source": [
    "plt.figure(figsize=(8,5))\n",
    "sns.boxplot(x=\"gender\", y=\"entryEXAM\", data=df_no_outliers, palette=\"Set2\")\n",
    "plt.title(\"Entry Exam Scores by Gender\")\n",
    "plt.show()"
   ]
  },
  {
   "cell_type": "code",
   "execution_count": 20,
   "id": "40915f07",
   "metadata": {},
   "outputs": [
    {
     "data": {
      "text/plain": [
       "Index(['fNAME', 'lNAME', 'Age', 'gender', 'country', 'residence', 'entryEXAM',\n",
       "       'prevEducation', 'studyHOURS', 'Python', 'DB'],\n",
       "      dtype='object')"
      ]
     },
     "execution_count": 20,
     "metadata": {},
     "output_type": "execute_result"
    }
   ],
   "source": [
    "df.columns"
   ]
  },
  {
   "cell_type": "code",
   "execution_count": 21,
   "id": "a57ff3f1",
   "metadata": {},
   "outputs": [
    {
     "data": {
      "text/plain": [
       "country\n",
       "Norway          48\n",
       "Uganda           4\n",
       "Kenya            3\n",
       "Germany          3\n",
       "Denmark          2\n",
       "Netherlands      2\n",
       "Italy            2\n",
       "Spain            2\n",
       "UK               2\n",
       "Somali           2\n",
       "Nigeria          2\n",
       "France           2\n",
       "Rsa              1\n",
       "South Africa     1\n",
       "Norge            1\n",
       "Name: count, dtype: int64"
      ]
     },
     "execution_count": 21,
     "metadata": {},
     "output_type": "execute_result"
    }
   ],
   "source": [
    "df['country'].value_counts().sort_values(ascending=False)"
   ]
  },
  {
   "cell_type": "code",
   "execution_count": null,
   "id": "13a1bf76",
   "metadata": {},
   "outputs": [],
   "source": []
  }
 ],
 "metadata": {
  "kernelspec": {
   "display_name": "base",
   "language": "python",
   "name": "python3"
  },
  "language_info": {
   "codemirror_mode": {
    "name": "ipython",
    "version": 3
   },
   "file_extension": ".py",
   "mimetype": "text/x-python",
   "name": "python",
   "nbconvert_exporter": "python",
   "pygments_lexer": "ipython3",
   "version": "3.11.7"
  }
 },
 "nbformat": 4,
 "nbformat_minor": 5
}
